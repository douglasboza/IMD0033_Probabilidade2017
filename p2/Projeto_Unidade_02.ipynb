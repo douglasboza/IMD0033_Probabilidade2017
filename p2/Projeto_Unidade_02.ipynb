{
 "cells": [
  {
   "cell_type": "code",
   "execution_count": null,
   "metadata": {
    "collapsed": true
   },
   "outputs": [],
   "source": [
    "import pandas as pd\n",
    "import matplotlib.pyplot as plt\n",
    "import numpy as np\n",
    "import scipy.stats as stats\n",
    "\n",
    "componentes = pd.read_csv('componentes-curriculares-presenciais.csv', sep=\";\")\n",
    "\n",
    "turmas20171 = pd.read_csv('turmas-2017.1.csv', sep=\";\")\n",
    "turmas20161 = pd.read_csv('turmas-2016.1.csv', sep=\";\")\n",
    "turmas20162 = pd.read_csv('turmas-2016.2.csv', sep=\";\")\n",
    "turmas20151 = pd.read_csv('turmas-2015.1.csv', sep=\";\")\n",
    "turmas20152 = pd.read_csv('turmas-2015.2.csv', sep=\";\")\n",
    "turmas20141 = pd.read_csv('turmas-2014.1.csv', sep=\";\")\n",
    "turmas20142 = pd.read_csv('turmas-2014.2.csv', sep=\";\")\n",
    "\n",
    "matriculas20171 = pd.read_csv('matricula-componente-20171.csv', sep=\";\") \n",
    "matriculas20162 = pd.read_csv('matricula-componente-20162.csv', sep=\";\")\n",
    "matriculas20161 = pd.read_csv('matricula-componente-20161.csv', sep=\";\")\n",
    "matriculas20152 = pd.read_csv('matricula-componente-20152.csv', sep=\";\")\n",
    "matriculas20151 = pd.read_csv('matricula-componente-20151.csv', sep=\";\")\n",
    "matriculas20141 = pd.read_csv('matricula-componente-20141.csv', sep=\";\")\n",
    "matriculas20142 = pd.read_csv('matricula-componente-20142.csv', sep=\";\")\n",
    "\n",
    "\n",
    "def matriculas_disciplina(id_componente):\n",
    "    t20171_imd = turmas20171[((turmas20171[\"id_componente_curricular\"] == id_componente[0]) & (turmas20171['situacao_turma'].str.contains(\"CONSOLIDADA\")))]\n",
    "    t20161_imd = turmas20161[((turmas20161[\"id_componente_curricular\"] == id_componente[0]) & (turmas20161[\"situacao_turma\"].str.contains(\"CONSOLIDADA\")))]\n",
    "    t20162_imd = turmas20162[((turmas20162[\"id_componente_curricular\"] == id_componente[0]) & (turmas20162[\"situacao_turma\"].str.contains(\"CONSOLIDADA\")))]\n",
    "    t20151_imd = turmas20151[((turmas20151[\"id_componente_curricular\"] == id_componente[0]) & (turmas20151[\"situacao_turma\"].str.contains(\"CONSOLIDADA\")))]\n",
    "    t20152_imd = turmas20152[((turmas20152[\"id_componente_curricular\"] == id_componente[0]) & (turmas20152[\"situacao_turma\"].str.contains(\"CONSOLIDADA\")))]\n",
    "    t20141_imd = turmas20141[((turmas20141[\"id_componente_curricular\"] == id_componente[0]) & (turmas20141[\"situacao_turma\"].str.contains(\"CONSOLIDADA\")))]\n",
    "    t20142_imd = turmas20142[((turmas20142[\"id_componente_curricular\"] == id_componente[0]) & (turmas20142[\"situacao_turma\"].str.contains(\"CONSOLIDADA\")))]\n",
    "\n",
    "    mat20171_imd = matriculas20171.loc[matriculas20171['id_turma'].isin(t20171_imd[\"id_turma\"])]\n",
    "    mat20161_imd = matriculas20161.loc[matriculas20161['id_turma'].isin(t20161_imd[\"id_turma\"])]\n",
    "    mat20162_imd = matriculas20162.loc[matriculas20162['id_turma'].isin(t20162_imd[\"id_turma\"])]\n",
    "    mat20151_imd = matriculas20151.loc[matriculas20151['id_turma'].isin(t20151_imd[\"id_turma\"])]\n",
    "    mat20152_imd = matriculas20152.loc[matriculas20152['id_turma'].isin(t20152_imd[\"id_turma\"])]\n",
    "    mat20141_imd = matriculas20141.loc[matriculas20141['id_turma'].isin(t20141_imd[\"id_turma\"])]\n",
    "    mat20142_imd = matriculas20142.loc[matriculas20142['id_turma'].isin(t20142_imd[\"id_turma\"])]\n",
    "\n",
    "    matriculas_imd = pd.concat([mat20171_imd, mat20161_imd])\n",
    "    matriculas_imd = pd.concat([matriculas_imd, mat20162_imd])\n",
    "    matriculas_imd = pd.concat([matriculas_imd, mat20151_imd])\n",
    "    matriculas_imd = pd.concat([matriculas_imd, mat20152_imd])\n",
    "    matriculas_imd = pd.concat([matriculas_imd, mat20141_imd])\n",
    "    matriculas_imd = pd.concat([matriculas_imd, mat20142_imd])     \n",
    "    \n",
    "    return matriculas_imd\n",
    "\n",
    "\n",
    "def notas_list(matriculas, unidade):\n",
    "    notas_list_imd = matriculas[matriculas[\"unidade\"] == unidade]\n",
    "    notas_list_imd = notas_list_imd.loc[notas_list_imd[\"nota\"] >= 0][\"nota\"].tolist()\n",
    "    return notas_list_imd\n",
    "\n",
    "def notas_final_list(matriculas):\n",
    "    notas_list_unfi = matriculas.drop_duplicates(['id_turma', 'id_discente'])\n",
    "    notas_list_unfi = notas_list_unfi.loc[notas_list_unfi[\"media_final\"] >= 0][\"media_final\"].tolist()\n",
    "    return notas_list_unfi\n",
    "\n",
    "def variances(media_notas, notas_list):\n",
    "    variances = [(i - media_notas) ** 2 for i in notas_list]\n",
    "    return variances\n",
    "\n",
    "def variance(variances):\n",
    "    return (sum(variances)/ len(variances))\n",
    "\n",
    "def standard_deviation(variance):\n",
    "    return variance ** (1/2)\n"
   ]
  },
  {
   "cell_type": "code",
   "execution_count": null,
   "metadata": {
    "collapsed": true
   },
   "outputs": [],
   "source": [
    "\n",
    "id_componente_imd0033 = componentes[componentes['codigo'].str.contains(\"IMD0033\")]\n",
    "id_componente_imd0033 = id_componente_imd0033[id_componente_imd0033['nome'].str.contains(\"PROBABILIDADE\")][\"id_componente\"].values\n",
    "\n",
    "matriculas_imd0033 = matriculas_disciplina(id_componente_imd0033);\n",
    "\n",
    "notas_list_imd0033_un1 = notas_list(matriculas_imd0033, 1)\n",
    "notas_list_imd0033_un2 = notas_list(matriculas_imd0033, 2)\n",
    "notas_list_imd0033_un3 = notas_list(matriculas_imd0033, 3)\n",
    "notas_list_imd0033_unfi = notas_final_list(matriculas_imd0033)\n",
    "\n",
    "media_notas_imd0033_un1 = np.mean(notas_list_imd0033_un1)\n",
    "media_notas_imd0033_un2 = np.mean(notas_list_imd0033_un2)\n",
    "media_notas_imd0033_un3 = np.mean(notas_list_imd0033_un3)\n",
    "media_notas_imd0033_unfi = np.mean(notas_list_imd0033_unfi)\n",
    "\n",
    "variances_imd0033_un1 = variances(media_notas_imd0033_un1, notas_list_imd0033_un1)\n",
    "variances_imd0033_un2 = variances(media_notas_imd0033_un2, notas_list_imd0033_un2)\n",
    "variances_imd0033_un3 = variances(media_notas_imd0033_un3, notas_list_imd0033_un3)\n",
    "variances_imd0033_unfi = variances(media_notas_imd0033_unfi, notas_list_imd0033_unfi)\n",
    "\n",
    "variance_imd0033_un1 = variance(variances_imd0033_un1)\n",
    "variance_imd0033_un2 = variance(variances_imd0033_un2)\n",
    "variance_imd0033_un3 = variance(variances_imd0033_un3)\n",
    "variance_imd0033_unfi = variance(variances_imd0033_unfi)\n",
    "\n",
    "standard_deviation_imd0033_un1 = standard_deviation(variance_imd0033_un1)\n",
    "standard_deviation_imd0033_un2 = standard_deviation(variance_imd0033_un2)\n",
    "standard_deviation_imd0033_un3 = standard_deviation(variance_imd0033_un3)\n",
    "standard_deviation_imd0033_unfi = standard_deviation(variance_imd0033_unfi)\n",
    "\n"
   ]
  },
  {
   "cell_type": "code",
   "execution_count": 87,
   "metadata": {
    "scrolled": true
   },
   "outputs": [
    {
     "name": "stdout",
     "output_type": "stream",
     "text": [
      "end\n"
     ]
    }
   ],
   "source": [
    "\n"
   ]
  },
  {
   "cell_type": "code",
   "execution_count": null,
   "metadata": {
    "scrolled": true
   },
   "outputs": [],
   "source": [
    "%pylab inline\n",
    "#pylab.rcParams['figure.figsize'] = (10, 8)\n",
    "\n",
    "fig, axeszs = plt.subplots(nrows=10, ncols=1, figsize=(10,40))\n",
    "\n",
    "axis_x = range(0,10)\n",
    "xi = 9\n",
    "\n",
    "def gerar_grafico(media, desvio_padrao, titulo, num):    \n",
    "    pdf = stats.norm.pdf(axis_x, media, desvio_padrao)\n",
    "    axeszs[num].plot(axis_x, pdf, '-bD')\n",
    "    axeszs[num].fill_between(axis_x[0:xi], pdf[0:xi],color='g',alpha=.5)\n",
    "    axeszs[num].title.set_text(titulo)    \n",
    "\n",
    "gerar_grafico(media_notas_imd0033_un1, standard_deviation_imd0033_un1, \"IMD0033 - Unidade 1\", 0)\n",
    "gerar_grafico(media_notas_imd0033_un2, standard_deviation_imd0033_un2, \"IMD0033 - Unidade 2\", 1)\n",
    "gerar_grafico(media_notas_imd0033_un3, standard_deviation_imd0033_un3, \"IMD0033 - Unidade 3\", 2)\n",
    "gerar_grafico(media_notas_imd0033_unfi, standard_deviation_imd0033_unfi, \"IMD0033 - Média final\", 3)\n",
    "\n",
    "\n",
    "plt.show()\n",
    "\n",
    "#cdf\n"
   ]
  },
  {
   "cell_type": "code",
   "execution_count": null,
   "metadata": {
    "collapsed": true
   },
   "outputs": [],
   "source": []
  },
  {
   "cell_type": "code",
   "execution_count": null,
   "metadata": {
    "collapsed": true
   },
   "outputs": [],
   "source": []
  }
 ],
 "metadata": {
  "kernelspec": {
   "display_name": "Python 3",
   "language": "python",
   "name": "python3"
  },
  "language_info": {
   "codemirror_mode": {
    "name": "ipython",
    "version": 3
   },
   "file_extension": ".py",
   "mimetype": "text/x-python",
   "name": "python",
   "nbconvert_exporter": "python",
   "pygments_lexer": "ipython3",
   "version": "3.6.2"
  }
 },
 "nbformat": 4,
 "nbformat_minor": 2
}
