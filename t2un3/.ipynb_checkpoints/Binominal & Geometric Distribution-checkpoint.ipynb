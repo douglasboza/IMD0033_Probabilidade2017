{
 "cells": [
  {
   "cell_type": "markdown",
   "metadata": {},
   "source": [
    "1. The dataset\n",
    "==\n",
    "\n",
    "In the last mission, we looked at calculating probabilities. In this mission, we'll construct probability distributions. But first, let's look at the dataset we'll be using.\n",
    "\n",
    "In many countries, there are bikesharing programs where anyone can rent a bike from a depot, and return it at other depots throughout a city. There is one such program in Washington, D.C., in the US. We'll be looking at the number of bikes that were rented by day. Here are the relevant columns:\n",
    "\n",
    "- <span style=\"background-color: #F9EBEA; color:##C0392B\">dteday</span> the date that we're looking at.\n",
    "- <span style=\"background-color: #F9EBEA; color:##C0392B\">cnt</span> the total number of bikes rented.\n",
    "\n",
    "This data was collected by <span style=\"background-color: #F9EBEA; color:##C0392B\">Hadi Fanaee-T</span> at the <span style=\"background-color: #F9EBEA; color:##C0392B\">University of Porto</span>, and can be downloaded [here](http://archive.ics.uci.edu/ml/datasets/Bike+Sharing+Dataset)."
   ]
  },
  {
   "cell_type": "markdown",
   "metadata": {},
   "source": [
    "2. Binomial distributions\n",
    "==\n",
    "\n",
    "In the last mission, we defined **p** as the probability of an outcome occurring, and **q** as the probability of it not occurring, where **q=1−p**. These types of probabilites are known as binomial -- there are two values, which add to <span style=\"background-color: #F9EBEA; color:##C0392B\">1</span> collectively. There's a <span style=\"background-color: #F9EBEA; color:##C0392B\">100%</span> chance of one outcome or the other occurring.\n",
    "\n",
    "Many commonly occurring events can be expressed in terms of binomial outcomes -- a coin flip, winning a football game, the stock market going up, and more.\n",
    "\n",
    "When we deal with binomial probabilities, we're often interested in the chance of a certain outcome happening in a sequence. We want to know what the chances are of our favorite football team winning 5 of its next 6 games, and the stock market going up in 4 of the next 6 days.\n",
    "\n",
    "The same interest applies when we're analyzing data. Companies and researchers conduct experiments every day. These can range from testing whether changing the button color on your webpage increases conversion rate to seeing if a new drug increases patient recovery rate.\n",
    "\n",
    "The core of these tests is the idea of a binomial distribution -- we want to know how many visitors out of 100 would normally sign up for our website, and we want to know if changing our button color affected that probability.\n",
    "\n",
    "One easy way to visualize binomials is a binomial distribution. Given <span style=\"background-color: #F9EBEA; color:##C0392B\">N</span> events, it plots the probabilities of getting different numbers of successful outcomes."
   ]
  },
  {
   "cell_type": "markdown",
   "metadata": {},
   "source": [
    "3. Bikesharing distribution\n",
    "==\n",
    "\n",
    "Let's say we're working for the [mayor of Natal, RN, Carlos Eduardo](https://pt.wikipedia.org/wiki/Carlos_Eduardo_Alves). he wants to know on how many days out of the next <span style=\"background-color: #F9EBEA; color:##C0392B\">30</span> we can expect more than <span style=\"background-color: #F9EBEA; color:##C0392B\">5000</span> riders.\n",
    "\n",
    "Rather than give her an exact number, which may not be accurate, we can hedge our bets with a probability distribution. This will show her all the possibilities, along with probabilities for each.\n",
    "\n",
    "First, we have to find the probability of there being more than <span style=\"background-color: #F9EBEA; color:##C0392B\">5000</span> riders in a single day.\n",
    "\n",
    "<br>\n",
    "<div class=\"alert alert-info\">\n",
    "<b>Exercise Start.</b>\n",
    "</div>\n",
    "\n",
    "**Description**:\n",
    "\n",
    "1. Find the probability of there being more than <span style=\"background-color: #F9EBEA; color:##C0392B\">5000</span> riders in a single day (using the <span style=\"background-color: #F9EBEA; color:##C0392B\">cnt</span> column). \n",
    "2. Assign the result to <span style=\"background-color: #F9EBEA; color:##C0392B\">prob\\_over\\_5000</span>\n"
   ]
  },
  {
   "cell_type": "code",
   "execution_count": 1,
   "metadata": {
    "scrolled": true
   },
   "outputs": [
    {
     "name": "stdout",
     "output_type": "stream",
     "text": [
      "0.3912448700410397\n"
     ]
    },
    {
     "data": {
      "text/html": [
       "<div>\n",
       "<style>\n",
       "    .dataframe thead tr:only-child th {\n",
       "        text-align: right;\n",
       "    }\n",
       "\n",
       "    .dataframe thead th {\n",
       "        text-align: left;\n",
       "    }\n",
       "\n",
       "    .dataframe tbody tr th {\n",
       "        vertical-align: top;\n",
       "    }\n",
       "</style>\n",
       "<table border=\"1\" class=\"dataframe\">\n",
       "  <thead>\n",
       "    <tr style=\"text-align: right;\">\n",
       "      <th></th>\n",
       "      <th>instant</th>\n",
       "      <th>dteday</th>\n",
       "      <th>season</th>\n",
       "      <th>yr</th>\n",
       "      <th>mnth</th>\n",
       "      <th>holiday</th>\n",
       "      <th>weekday</th>\n",
       "      <th>workingday</th>\n",
       "      <th>weathersit</th>\n",
       "      <th>temp</th>\n",
       "      <th>atemp</th>\n",
       "      <th>hum</th>\n",
       "      <th>windspeed</th>\n",
       "      <th>casual</th>\n",
       "      <th>registered</th>\n",
       "      <th>cnt</th>\n",
       "    </tr>\n",
       "  </thead>\n",
       "  <tbody>\n",
       "    <tr>\n",
       "      <th>0</th>\n",
       "      <td>1</td>\n",
       "      <td>2011-01-01</td>\n",
       "      <td>1</td>\n",
       "      <td>0</td>\n",
       "      <td>1</td>\n",
       "      <td>0</td>\n",
       "      <td>6</td>\n",
       "      <td>0</td>\n",
       "      <td>2</td>\n",
       "      <td>0.344167</td>\n",
       "      <td>0.363625</td>\n",
       "      <td>0.805833</td>\n",
       "      <td>0.160446</td>\n",
       "      <td>331</td>\n",
       "      <td>654</td>\n",
       "      <td>985</td>\n",
       "    </tr>\n",
       "    <tr>\n",
       "      <th>1</th>\n",
       "      <td>2</td>\n",
       "      <td>2011-01-02</td>\n",
       "      <td>1</td>\n",
       "      <td>0</td>\n",
       "      <td>1</td>\n",
       "      <td>0</td>\n",
       "      <td>0</td>\n",
       "      <td>0</td>\n",
       "      <td>2</td>\n",
       "      <td>0.363478</td>\n",
       "      <td>0.353739</td>\n",
       "      <td>0.696087</td>\n",
       "      <td>0.248539</td>\n",
       "      <td>131</td>\n",
       "      <td>670</td>\n",
       "      <td>801</td>\n",
       "    </tr>\n",
       "    <tr>\n",
       "      <th>2</th>\n",
       "      <td>3</td>\n",
       "      <td>2011-01-03</td>\n",
       "      <td>1</td>\n",
       "      <td>0</td>\n",
       "      <td>1</td>\n",
       "      <td>0</td>\n",
       "      <td>1</td>\n",
       "      <td>1</td>\n",
       "      <td>1</td>\n",
       "      <td>0.196364</td>\n",
       "      <td>0.189405</td>\n",
       "      <td>0.437273</td>\n",
       "      <td>0.248309</td>\n",
       "      <td>120</td>\n",
       "      <td>1229</td>\n",
       "      <td>1349</td>\n",
       "    </tr>\n",
       "    <tr>\n",
       "      <th>3</th>\n",
       "      <td>4</td>\n",
       "      <td>2011-01-04</td>\n",
       "      <td>1</td>\n",
       "      <td>0</td>\n",
       "      <td>1</td>\n",
       "      <td>0</td>\n",
       "      <td>2</td>\n",
       "      <td>1</td>\n",
       "      <td>1</td>\n",
       "      <td>0.200000</td>\n",
       "      <td>0.212122</td>\n",
       "      <td>0.590435</td>\n",
       "      <td>0.160296</td>\n",
       "      <td>108</td>\n",
       "      <td>1454</td>\n",
       "      <td>1562</td>\n",
       "    </tr>\n",
       "    <tr>\n",
       "      <th>4</th>\n",
       "      <td>5</td>\n",
       "      <td>2011-01-05</td>\n",
       "      <td>1</td>\n",
       "      <td>0</td>\n",
       "      <td>1</td>\n",
       "      <td>0</td>\n",
       "      <td>3</td>\n",
       "      <td>1</td>\n",
       "      <td>1</td>\n",
       "      <td>0.226957</td>\n",
       "      <td>0.229270</td>\n",
       "      <td>0.436957</td>\n",
       "      <td>0.186900</td>\n",
       "      <td>82</td>\n",
       "      <td>1518</td>\n",
       "      <td>1600</td>\n",
       "    </tr>\n",
       "  </tbody>\n",
       "</table>\n",
       "</div>"
      ],
      "text/plain": [
       "   instant      dteday  season  yr  mnth  holiday  weekday  workingday  \\\n",
       "0        1  2011-01-01       1   0     1        0        6           0   \n",
       "1        2  2011-01-02       1   0     1        0        0           0   \n",
       "2        3  2011-01-03       1   0     1        0        1           1   \n",
       "3        4  2011-01-04       1   0     1        0        2           1   \n",
       "4        5  2011-01-05       1   0     1        0        3           1   \n",
       "\n",
       "   weathersit      temp     atemp       hum  windspeed  casual  registered  \\\n",
       "0           2  0.344167  0.363625  0.805833   0.160446     331         654   \n",
       "1           2  0.363478  0.353739  0.696087   0.248539     131         670   \n",
       "2           1  0.196364  0.189405  0.437273   0.248309     120        1229   \n",
       "3           1  0.200000  0.212122  0.590435   0.160296     108        1454   \n",
       "4           1  0.226957  0.229270  0.436957   0.186900      82        1518   \n",
       "\n",
       "    cnt  \n",
       "0   985  \n",
       "1   801  \n",
       "2  1349  \n",
       "3  1562  \n",
       "4  1600  "
      ]
     },
     "execution_count": 1,
     "metadata": {},
     "output_type": "execute_result"
    }
   ],
   "source": [
    "import pandas as pd\n",
    "bikes = pd.read_csv(\"bike_rental_day.csv\")\n",
    "\n",
    "prob_over_5000 = len(bikes.loc[bikes[\"cnt\"] > 5000]) / len(bikes)\n",
    "print(prob_over_5000)\n",
    "\n",
    "bikes.head()"
   ]
  },
  {
   "cell_type": "markdown",
   "metadata": {},
   "source": [
    "4. Computing the distribution\n",
    "==\n",
    "\n",
    "We now know that the probability is about <span style=\"background-color: #F9EBEA; color:##C0392B\">.39</span> that there are more than <span style=\"background-color: #F9EBEA; color:##C0392B\">5000</span> riders in a single day. In the last mission, we figured out how to find the probability of <span style=\"background-color: #F9EBEA; color:##C0392B\">k</span> outcomes out of <span style=\"background-color: #F9EBEA; color:##C0392B\">N</span> events occurring. We'll need to use this to build up a list of probabilities.\n",
    "\n",
    "The formula we used in the last mission was:\n",
    "\n",
    "$p^k \\times (1 - p)^{N-k}\\binom{N}{k}$\n",
    "\n",
    "\n",
    "<br>\n",
    "<div class=\"alert alert-info\">\n",
    "<b>Exercise Start.</b>\n",
    "</div>\n",
    "\n",
    "**Description**:\n",
    "\n",
    "1. Using the knowledge from the last mission, create a function that can compute the probability of <span style=\"background-color: #F9EBEA; color:##C0392B\">k</span> outcomes out of <span style=\"background-color: #F9EBEA; color:##C0392B\">N</span> events occurring.\n",
    "2. Use the function to find the probability of each number of outcomes in <span style=\"background-color: #F9EBEA; color:##C0392B\">outcome_counts</span> occurring.\n",
    "    - An outcome is a day where there are more than <span style=\"background-color: #F9EBEA; color:##C0392B\">5000</span> riders, with <span style=\"background-color: #F9EBEA; color:##C0392B\">p=.39</span>.\n",
    "    - You should have a list with <span style=\"background-color: #F9EBEA; color:##C0392B\">31 items</span>, where the first item is the probability of 0 days out of 30 with more than 5000 riders, the second is the probability of 1 day out of 30, and so on, up to 30 days out of 30.\n",
    "    - Assign the list to <span style=\"background-color: #F9EBEA; color:##C0392B\">outcome_probs</span>."
   ]
  },
  {
   "cell_type": "code",
   "execution_count": 2,
   "metadata": {},
   "outputs": [
    {
     "name": "stdout",
     "output_type": "stream",
     "text": [
      "[3.6299032553937196e-07, 6.962273457066644e-06, 6.454369901592111e-05, 0.0003851460072425456, 0.0016621260066655757, 0.0055258877729799805, 0.014720602673922079, 0.03226811265290648, 0.0593124939542154, 0.09269602880276286, 0.12445581572043082, 0.1446729303456573, 0.14645169588269408, 0.12964576356828655, 0.10065004829715923, 0.06864003293707908, 0.04114182302068777, 0.021661943461230015, 0.010002372800404023, 0.004038921890068234, 0.0014202438449502238, 0.00043239273968039596, 0.00011309228884338226, 2.5149532515420715e-05, 4.6897693829985355e-06, 7.196105151617426e-07, 8.847670268382081e-08, 8.380306993731663e-09, 5.740608420764663e-10, 2.5311896937232547e-11, 5.394338691541363e-13]\n"
     ]
    }
   ],
   "source": [
    "import math\n",
    "# Each item in this list represents one k, starting from 0 and going up to and including 30.\n",
    "outcome_counts = list(range(31))\n",
    "\n",
    "def find_probability(N, k, p, q):\n",
    "    prob = (p**k) * (q**(N-k))\n",
    "    div = (math.factorial(N)) / (math.factorial(k)*math.factorial(N-k))    \n",
    "    return prob*div\n",
    "\n",
    "outcome_probs = [find_probability(30, i, .39, .61) for i in outcome_counts]\n",
    "print(outcome_probs)\n",
    "\n"
   ]
  },
  {
   "cell_type": "markdown",
   "metadata": {},
   "source": [
    "5. Plotting the distribution\n",
    "==\n",
    "\n",
    "You may have noticed that <span style=\"background-color: #F9EBEA; color:##C0392B\">outcome_counts</span> in the previous screen was 31 items long when N was only 30. This is because we need to account for 0. There's a chance of having k=0, where the outcome we want doesn't happen at all. This data point needs to be on our charts. We'll always want to add 1 to N when figuring out how many points to plot.\n",
    "\n",
    "Our data is in terms of whole days. Either 1 day has more than 5000 riders, or 2 days have more than 5000 riders. It doesn't make sense to talk about the probability of 1.5 days having more than 5000 riders. The points in our data are [discrete](https://en.wikipedia.org/wiki/Probability_distribution#Discrete_probability_distribution) and not [continuous](https://en.wikipedia.org/wiki/Continuous_and_discrete_variables), so we use a bar chart when plotting.\n",
    "\n",
    "Now that we've computed the distribution, we can easily plot it out using matplotlib. This will show us a nice distribution of our probabilities, along with the most likely outcomes.\n"
   ]
  },
  {
   "cell_type": "code",
   "execution_count": 4,
   "metadata": {},
   "outputs": [
    {
     "data": {
      "image/png": "[encoded data removed]",
      "text/plain": [
       "<matplotlib.figure.Figure at 0xaebd198>"
      ]
     },
     "metadata": {},
     "output_type": "display_data"
    }
   ],
   "source": [
    "import matplotlib.pyplot as plt\n",
    "import seaborn as sns\n",
    "\n",
    "# load the seaborn configurations\n",
    "sns.set()\n",
    "\n",
    "# The most likely number of days is between 10 and 15.\n",
    "plt.bar(outcome_counts, outcome_probs)\n",
    "\n",
    "plt.show()"
   ]
  },
  {
   "cell_type": "markdown",
   "metadata": {},
   "source": [
    "6. Simplifying the computation\n",
    "==\n",
    "\n",
    "To construct our distribution, we had to write our own custom function, and a decent amount of code. We can instead use the [binom.pmf](http://docs.scipy.org/doc/scipy-0.16.1/reference/generated/scipy.stats.binom.html) function from [SciPy](http://docs.scipy.org/doc/scipy/reference/index.html) to do this faster.\n",
    "\n",
    "Here's a usage example:\n",
    "\n",
    ">```python\n",
    "from scipy import linspace\n",
    "from scipy.stats import binom\n",
    "# Create a range of numbers from 0 to 30, with 31 elements (each number has one entry).\n",
    "outcome_counts = linspace(0,30,31)\n",
    "# Create the binomial probabilities, one for each entry in outcome_counts.\n",
    "dist = binom.pmf(outcome_counts,30,0.39)\n",
    "```\n",
    "\n",
    "The <span style=\"background-color: #F9EBEA; color:##C0392B\">pmf</span> function in <span style=\"background-color: #F9EBEA; color:##C0392B\">SciPy</span> is an implementation of the mathematical [probability mass function](https://en.wikipedia.org/wiki/Probability_mass_function). The <span style=\"background-color: #F9EBEA; color:##C0392B\">pmf</span> will give us the probability of each <span style=\"background-color: #F9EBEA; color:##C0392B\">k</span> in our <span style=\"background-color: #F9EBEA; color:##C0392B\">outcome_counts</span> list occurring.\n",
    "\n",
    "A binomial distribution only needs two parameters. A **parameter** is the statistical term for a number that summarizes data for the entire population. For a binomial distribution, the parameters are:\n",
    "\n",
    "- <span style=\"background-color: #F9EBEA; color:##C0392B\">N</span>, the total number of events,\n",
    "- <span style=\"background-color: #F9EBEA; color:##C0392B\">p</span>, the probability of the outcome we're interested in seeing.\n",
    "\n",
    "The SciPy function <span style=\"background-color: #F9EBEA; color:##C0392B\">pmf</span> matches this and takes in the following parameters:\n",
    "\n",
    "- <span style=\"background-color: #F9EBEA; color:##C0392B\">x</span>: the list of outcomes,\n",
    "- <span style=\"background-color: #F9EBEA; color:##C0392B\">n</span>: the total number of events,\n",
    "- <span style=\"background-color: #F9EBEA; color:##C0392B\">p</span>: the probability of the outcome we're interested in seeing.\n",
    "\n",
    "Because we only need two parameters to describe a distribution, it doesn't matter whether we want to know if it will be sunny <span style=\"background-color: #F9EBEA; color:##C0392B\">5</span> days out of <span style=\"background-color: #F9EBEA; color:##C0392B\">5</span>, or if <span style=\"background-color: #F9EBEA; color:##C0392B\">5</span> out of <span style=\"background-color: #F9EBEA; color:##C0392B\">5</span> coin flips will turn up heads. As long as the outcome that we care about has the same *probability (p)*, and N is the same, the binomial distribution will look the same.\n",
    "\n",
    "<br>\n",
    "<div class=\"alert alert-info\">\n",
    "<b>Exercise Start.</b>\n",
    "</div>\n",
    "\n",
    "**Description**:\n",
    "\n",
    "- Generate a **binomial distribution**, and then find the probabilities for each value in <span style=\"background-color: #F9EBEA; color:##C0392B\">outcome_counts</span>.\n",
    "- Use <span style=\"background-color: #F9EBEA; color:##C0392B\">N=30</span>, and <span style=\"background-color: #F9EBEA; color:##C0392B\">p=.39</span>, as we're doing this for the bikesharing data.\n",
    "\n",
    "- Plot the resulting data as a **bar chart**."
   ]
  },
  {
   "cell_type": "code",
   "execution_count": 5,
   "metadata": {},
   "outputs": [
    {
     "data": {
      "image/png": "[encoded data removed]",
      "text/plain": [
       "<matplotlib.figure.Figure at 0xaffa6d8>"
      ]
     },
     "metadata": {},
     "output_type": "display_data"
    }
   ],
   "source": [
    "import scipy\n",
    "from scipy import linspace\n",
    "from scipy.stats import binom\n",
    "\n",
    "outcome_counts = linspace(0,30,31)\n",
    "dist = binom.pmf(outcome_counts,30,.39)\n",
    "plt.bar(outcome_counts, dist)\n",
    "plt.show()"
   ]
  },
  {
   "cell_type": "markdown",
   "metadata": {},
   "source": [
    "7. How to think about a probability distribution\n",
    "==\n",
    "\n",
    "Looking at a probability distribution might not be extremely intuitive. One way to think about it is that \"if we repeatedly look at samples, the expected number of outcomes will follow the probability distribution\".\n",
    "\n",
    "If we repeatedly look at  <span style=\"background-color: #F9EBEA; color:##C0392B\">30 days</span> of bikesharing data, we'll find that  <span style=\"background-color: #F9EBEA; color:##C0392B\">10</span> of the days had more than  <span style=\"background-color: #F9EBEA; color:##C0392B\">5000</span> riders about  <span style=\"background-color: #F9EBEA; color:##C0392B\">12.4%</span> of the time. We'll find that  <span style=\"background-color: #F9EBEA; color:##C0392B\">12</span> of the days had more than  <span style=\"background-color: #F9EBEA; color:##C0392B\">5000</span> riders about  <span style=\"background-color: #F9EBEA; color:##C0392B\">14.6%</span> of the time.\n",
    "\n",
    "A probability distribution is a great way to visualize data, but bear in mind that it's not dealing in absolute values. A probability distribution can only tell us which values are likely, and how likely they are.\n"
   ]
  },
  {
   "cell_type": "markdown",
   "metadata": {},
   "source": [
    "8. Computing the mean of a probability distribution\n",
    "==\n",
    "\n",
    "Sometimes we'll want to be able to tell people the expected value of a probability distribution -- the most likely result of a single sample that we look at.\n",
    "\n",
    "To compute this, we just multiply N by p according to [Binomial Distribution](https://en.wikipedia.org/wiki/Binomial_distribution).\n",
    "\n",
    "\n",
    "\n",
    "<br>\n",
    "<div class=\"alert alert-info\">\n",
    "<b>Exercise Start.</b>\n",
    "</div>\n",
    "\n",
    "**Description**:\n",
    "\n",
    "- Compute the mean for the bikesharing data, where *N=30*, and *p=.39*.\n",
    "- Assign the result to <span style=\"background-color: #F9EBEA; color:##C0392B\">dist_mean</span>."
   ]
  },
  {
   "cell_type": "code",
   "execution_count": 6,
   "metadata": {},
   "outputs": [
    {
     "name": "stdout",
     "output_type": "stream",
     "text": [
      "11.700000000000001\n"
     ]
    }
   ],
   "source": [
    "dist_mean = 30*0.39\n",
    "print(dist_mean)"
   ]
  },
  {
   "cell_type": "markdown",
   "metadata": {},
   "source": [
    "9. Computing the standard deviation\n",
    "==\n",
    "\n",
    "Just as we can compute the mean, we can also compute the standard deviation of a probability distribution. This helps us find how much the actual values will vary from the mean when we take a sample.\n",
    "\n",
    "Going back to the bikesharing example, we know that the actual values will be around <span style=\"background-color: #F9EBEA; color:##C0392B\">11.7</span> (from the last screen). But, we'll need a standard deviation to explain how much the actual values can vary from this expectation.\n",
    "\n",
    "The formula for standard deviation of [Binominal distribution](https://en.wikipedia.org/wiki/Binomial_distribution) is:\n",
    "\n",
    "$\\sqrt{N∗p∗(1-p)}$\n",
    "\n",
    "<br>\n",
    "<div class=\"alert alert-info\">\n",
    "<b>Exercise Start.</b>\n",
    "</div>\n",
    "\n",
    "**Description**:\n",
    "\n",
    "- Compute the standard deviation for the bikesharing data, where *N=30*, and *p=.39*.\n",
    "- Assign the result to <span style=\"background-color: #F9EBEA; color:##C0392B\">dist_stdev</span>.\n"
   ]
  },
  {
   "cell_type": "code",
   "execution_count": 7,
   "metadata": {},
   "outputs": [
    {
     "name": "stdout",
     "output_type": "stream",
     "text": [
      "2.671516423307182\n"
     ]
    }
   ],
   "source": [
    "dist_stdev = math.sqrt(30*0.39*(1-0.39))\n",
    "print(dist_stdev)"
   ]
  },
  {
   "cell_type": "markdown",
   "metadata": {},
   "source": [
    "10. A different plot\n",
    "==\n",
    "\n",
    "Just like we did with histograms and sampling a few missions ago, we can vary the parameters to change the distribution. Let's see what the plot would look like with only 10 events, or 100 events.\n"
   ]
  },
  {
   "cell_type": "code",
   "execution_count": 8,
   "metadata": {
    "scrolled": false
   },
   "outputs": [
    {
     "data": {
      "image/png": "[encoded data removed]",
      "text/plain": [
       "<matplotlib.figure.Figure at 0xc0f10f0>"
      ]
     },
     "metadata": {},
     "output_type": "display_data"
    },
    {
     "data": {
      "image/png": "[encoded data removed]",
      "text/plain": [
       "<matplotlib.figure.Figure at 0xaeb7588>"
      ]
     },
     "metadata": {},
     "output_type": "display_data"
    }
   ],
   "source": [
    "from scipy import linspace\n",
    "from scipy.stats import binom\n",
    "\n",
    "outcome_counts = linspace(0,10,11)\n",
    "outcome_probs = binom.pmf(outcome_counts,10,0.39)\n",
    "plt.bar(outcome_counts, outcome_probs)\n",
    "plt.show()\n",
    "\n",
    "outcome_counts = linspace(0,100,101)\n",
    "outcome_probs = binom.pmf(outcome_counts,100,0.39)\n",
    "plt.bar(outcome_counts, outcome_probs)\n",
    "plt.show()"
   ]
  },
  {
   "cell_type": "markdown",
   "metadata": {},
   "source": [
    "11. The normal distribution\n",
    "==\n",
    "\n",
    "From the last screen, the more events we looked at, the closer our distribution was to being normal. With N=10, we saw some rightward skew, but when we got up to N=100, the skew disappeared.\n",
    "\n",
    "This is because the distribution got narrower relative to the x-axis range the more examples you add. With N=10, there's a reasonable chance that 8 to 10 days could have over 5000 riders. But, when we get up to N=100, it's statistically almost impossible that more than 60 days have over 5000 riders. This makes the distribution narrower.\n",
    "\n",
    "As the distribution gets narrower, it gets more similar to the normal distribution. In the code cell, we plot a line chart instead of a bar chart and it looks almost exactly like a normal distribution."
   ]
  },
  {
   "cell_type": "code",
   "execution_count": 9,
   "metadata": {},
   "outputs": [
    {
     "data": {
      "image/png": "[encoded data removed]",
      "text/plain": [
       "<matplotlib.figure.Figure at 0xc273da0>"
      ]
     },
     "metadata": {},
     "output_type": "display_data"
    }
   ],
   "source": [
    "\n",
    "# Create a range of numbers from 0 to 100, with 101 elements (each number has one entry).\n",
    "outcome_counts = linspace(0,100,101)\n",
    "\n",
    "# Create a probability mass function along the outcome_counts.\n",
    "outcome_probs = binom.pmf(outcome_counts,100,0.39)\n",
    "\n",
    "# Plot a line, not a bar chart.\n",
    "plt.plot(outcome_counts, outcome_probs)\n",
    "plt.show()"
   ]
  },
  {
   "cell_type": "markdown",
   "metadata": {},
   "source": [
    "12.  Cumulative density function\n",
    "==\n",
    "\n",
    "So far, we've looked at the probability that single values of k will occur. What we can look at instead is the probability that k or less will occur. These probabilities can be generated by the [cumulative density function](https://en.wikipedia.org/wiki/Binomial_distribution).\n",
    "\n",
    "Let's say we flip a coin 3 times -- N=3, and p=.5. When this happens, here are the probabilities:\n",
    "\n",
    ">```python\n",
    "k    probability\n",
    "0    .125\n",
    "1    .375\n",
    "2    .375\n",
    "3    .125\n",
    "```\n",
    "\n",
    "A cumulative distribution would look like this:\n",
    "\n",
    ">```python\n",
    "k    probability\n",
    "0    .125\n",
    "1    .5\n",
    "2    .875\n",
    "3    1\n",
    "```\n",
    "\n",
    "For each k, we fill in the probability that we'll see k outcomes or less. By the end of the distribution, we should get 1, because all the probabilities add to 1 (if we flip 3 coins, either 0, 1, 2, or 3 of them must be heads).\n",
    "\n",
    "We can calculate this with binom.cdf in scipy.\n",
    "\n",
    ">```python\n",
    "from scipy import linspace\n",
    "from scipy.stats import binom\n",
    "# Create a range of numbers from 0 to 30, with 31 elements (each number has one entry).\n",
    "outcome_counts = linspace(0,30,31)\n",
    "# Create the cumulative binomial probabilities, one for each entry in outcome_counts.\n",
    "dist = binom.cdf(outcome_counts,30,0.39)\n",
    "```\n",
    "\n",
    "<br>\n",
    "<div class=\"alert alert-info\">\n",
    "<b>Exercise Start.</b>\n",
    "</div>\n",
    "\n",
    "**Description**:\n",
    "\n",
    "- Create a cumulative distribution where N=30 and p=.39 and generate a line plot of the distribution."
   ]
  },
  {
   "cell_type": "code",
   "execution_count": 10,
   "metadata": {},
   "outputs": [
    {
     "data": {
      "image/png": "[encoded data removed]",
      "text/plain": [
       "<matplotlib.figure.Figure at 0xb006ba8>"
      ]
     },
     "metadata": {},
     "output_type": "display_data"
    }
   ],
   "source": [
    "outcome_counts = linspace(0,30,31)\n",
    "dist=binom.cdf(outcome_counts,30,.39)\n",
    "plt.plot(outcome_counts,dist)\n",
    "plt.show()\n",
    "\n"
   ]
  },
  {
   "cell_type": "markdown",
   "metadata": {},
   "source": [
    "13. Calculating z-scores\n",
    "==\n",
    "\n",
    "We can calculate z-scores (the number of standard deviations away from the mean a probability is) fairly easily. These z-scores can then be used how we used z-scores earlier -- to find the percentage of values to the left and right of the value we're looking at.\n",
    "\n",
    "To make this more concrete, say we had 16 days where we observed more than 5000 riders. Is this likely? Unlikely? Using a z-score, we can figure out exactly how common this event is.\n",
    "\n",
    "This is because every normal distribution, as we learned in an earlier mission, has the same properties when it comes to what percentage of the data is within a certain number of standard deviations of the mean. You can look these up in a [standard normal table](https://en.wikipedia.org/wiki/Standard_normal_table). About 68% of the data is within 1 standard deviationof the mean, 95% is within 2, and 99% is within 3.\n",
    "\n",
    "We can calculate the mean ($\\mu$) and standard deviation ($\\sigma$) of a binomial probability distribution using the formulas from earlier:\n",
    "\n",
    "$\\mu = N \\times p$\n",
    "\n",
    "$\\sigma = \\sqrt{N \\times p \\times (1-p)}$\n",
    "\n",
    "If we want to figure out the number of standard deviations from the mean a value is, we just do:\n",
    "\n",
    "$\\displaystyle \\frac{k-\\mu}{\\sigma}$\n",
    "\n",
    "If we wanted to find how many standard deviations from the mean 16 days is:\n",
    "\n",
    "$\\displaystyle \\frac{16-\\mu}{\\sigma} = \\frac{16 - (30 \\times 0.39)}{\\sqrt{30 \\times 0.39 \\times 0.61}} = \\frac{4.30}{2.67} = 1.61$\n",
    "\n",
    "This tells us that 16 days is approximately 1.61 standard deviations above the mean. In percentage form, this captures about 44.63% of our data. If we also include 1.61 standard deviations below the mean(both sides of distribution), this'll include 89.26% of our data.\n",
    "\n",
    "There's a 5.37% chance that a value is 1.61 standard deviations or more above the mean (to the right of the mean), and there's a 5.37% chance that a value is 1.61 standard deviations below the mean (to the left)."
   ]
  },
  {
   "cell_type": "markdown",
   "metadata": {},
   "source": [
    "14. Faster way to calculate likelihood\n",
    "==\n",
    "\n",
    "We don't want to have to use a z-score table every time we want to see how likely or unlikely a probability is. A much faster way is to use the cumulative distribution fuction (cdf) like we did earlier. This won't give us the exact same values as using z-scores, because the distribution isn't exactly normal, but it will give us the actual amount of probability in a distribution to the left of a given k.\n",
    "\n",
    "To use it, we can run:\n",
    "\n",
    ">```python\n",
    "# The sum of all the probabilities to the left of k, including k.\n",
    "left = binom.cdf(k,N,p)\n",
    "# The sum of all probabilities to the right of k.\n",
    "right = 1 - left\n",
    "```\n",
    "\n",
    "This will return the sum of all the probabilities to the left of and including k. If we subtract this value from 1, we get the sum of all the probabilities to the right of k.\n",
    "\n",
    "<br>\n",
    "<div class=\"alert alert-info\">\n",
    "<b>Exercise Start.</b>\n",
    "</div>\n",
    "\n",
    "**Description**:\n",
    "\n",
    "- Find the probability to the left of k=16 (including 16) when N=30 and p=.39.\n",
    "    - Assign the result to left_16.\n",
    "- Find the probability to the right of k=16 when N=30 and p=.39.\n",
    "    - Assign the result to right_16."
   ]
  },
  {
   "cell_type": "code",
   "execution_count": 11,
   "metadata": {},
   "outputs": [
    {
     "name": "stdout",
     "output_type": "stream",
     "text": [
      "0.962300376605\n",
      "0.0376996233945\n"
     ]
    }
   ],
   "source": [
    "left_16 = binom.cdf(16,30,.39)\n",
    "right_16 = 1-left_16\n",
    "\n",
    "print(left_16)\n",
    "print(right_16)"
   ]
  },
  {
   "cell_type": "markdown",
   "metadata": {},
   "source": [
    "15. Geometric distribution\n",
    "==\n",
    "\n",
    "The geometric distribution is discrete and models the number of trials it takes to achieve a success in repeated experiments with a given probability of success.\n"
   ]
  },
  {
   "cell_type": "code",
   "execution_count": 12,
   "metadata": {},
   "outputs": [
    {
     "data": {
      "image/png": "[encoded data removed]",
      "text/plain": [
       "<matplotlib.figure.Figure at 0xc2d5fd0>"
      ]
     },
     "metadata": {},
     "output_type": "display_data"
    }
   ],
   "source": [
    "from scipy import linspace\n",
    "from scipy.stats import geom\n",
    "\n",
    "# Create a range of numbers from 0 to 30, with 31 elements (each number has one entry).\n",
    "outcome_counts = linspace(0,30,31)\n",
    "\n",
    "# Create the pmf, one for each entry in outcome_counts.\n",
    "outcome_probs = geom.pmf(outcome_counts,0.39)\n",
    "\n",
    "plt.bar(outcome_counts, outcome_probs)\n",
    "plt.show()"
   ]
  },
  {
   "cell_type": "code",
   "execution_count": null,
   "metadata": {
    "collapsed": true
   },
   "outputs": [],
   "source": []
  }
 ],
 "metadata": {
  "kernelspec": {
   "display_name": "Python 3",
   "language": "python",
   "name": "python3"
  },
  "language_info": {
   "codemirror_mode": {
    "name": "ipython",
    "version": 3
   },
   "file_extension": ".py",
   "mimetype": "text/x-python",
   "name": "python",
   "nbconvert_exporter": "python",
   "pygments_lexer": "ipython3",
   "version": "3.6.2"
  }
 },
 "nbformat": 4,
 "nbformat_minor": 2
}
